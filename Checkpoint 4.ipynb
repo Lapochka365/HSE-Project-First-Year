{
 "cells": [
  {
   "cell_type": "markdown",
   "id": "cee9069e",
   "metadata": {},
   "source": [
    "##### Imports"
   ]
  },
  {
   "cell_type": "code",
   "execution_count": 35,
   "id": "62f2c510",
   "metadata": {},
   "outputs": [],
   "source": [
    "import pandas as pd\n",
    "from IPython.display import display\n",
    "import numpy as np\n",
    "import random\n",
    "from sklearn.linear_model import LogisticRegression\n",
    "from sklearn.metrics import f1_score, recall_score, precision_score"
   ]
  },
  {
   "cell_type": "markdown",
   "id": "86c8feae",
   "metadata": {},
   "source": [
    "##### Constants"
   ]
  },
  {
   "cell_type": "code",
   "execution_count": 34,
   "id": "5b9813e6",
   "metadata": {},
   "outputs": [],
   "source": [
    "DATASET_PATH = \"scaled_myocardial_infarction_dataset.csv\"\n",
    "SEED = 0\n",
    "MAX_ITER = 1000"
   ]
  },
  {
   "cell_type": "code",
   "execution_count": 13,
   "id": "1393b776",
   "metadata": {},
   "outputs": [],
   "source": [
    "np.random.seed(SEED)\n",
    "random.seed(SEED)"
   ]
  },
  {
   "cell_type": "markdown",
   "id": "833507f3",
   "metadata": {},
   "source": [
    "##### Dataset Loading "
   ]
  },
  {
   "cell_type": "code",
   "execution_count": 18,
   "id": "252ce00d",
   "metadata": {},
   "outputs": [
    {
     "data": {
      "text/html": [
       "<div>\n",
       "<style scoped>\n",
       "    .dataframe tbody tr th:only-of-type {\n",
       "        vertical-align: middle;\n",
       "    }\n",
       "\n",
       "    .dataframe tbody tr th {\n",
       "        vertical-align: top;\n",
       "    }\n",
       "\n",
       "    .dataframe thead th {\n",
       "        text-align: right;\n",
       "    }\n",
       "</style>\n",
       "<table border=\"1\" class=\"dataframe\">\n",
       "  <thead>\n",
       "    <tr style=\"text-align: right;\">\n",
       "      <th></th>\n",
       "      <th>AGE</th>\n",
       "      <th>SEX</th>\n",
       "      <th>INF_ANAM</th>\n",
       "      <th>STENOK_AN</th>\n",
       "      <th>FK_STENOK</th>\n",
       "      <th>IBS_POST</th>\n",
       "      <th>GB</th>\n",
       "      <th>SIM_GIPERT</th>\n",
       "      <th>DLIT_AG</th>\n",
       "      <th>ZSN_A</th>\n",
       "      <th>...</th>\n",
       "      <th>JELUD_TAH</th>\n",
       "      <th>FIBR_JELUD</th>\n",
       "      <th>A_V_BLOK</th>\n",
       "      <th>OTEK_LANC</th>\n",
       "      <th>RAZRIV</th>\n",
       "      <th>DRESSLER</th>\n",
       "      <th>ZSN</th>\n",
       "      <th>REC_IM</th>\n",
       "      <th>P_IM_STEN</th>\n",
       "      <th>LET_IS</th>\n",
       "    </tr>\n",
       "  </thead>\n",
       "  <tbody>\n",
       "    <tr>\n",
       "      <th>0</th>\n",
       "      <td>0.8750</td>\n",
       "      <td>0.0</td>\n",
       "      <td>2.0</td>\n",
       "      <td>0.0</td>\n",
       "      <td>-0.5</td>\n",
       "      <td>1.0</td>\n",
       "      <td>0.5</td>\n",
       "      <td>0.0</td>\n",
       "      <td>0.857143</td>\n",
       "      <td>0.0</td>\n",
       "      <td>...</td>\n",
       "      <td>0.0</td>\n",
       "      <td>0.0</td>\n",
       "      <td>0.0</td>\n",
       "      <td>0.0</td>\n",
       "      <td>0.0</td>\n",
       "      <td>0.0</td>\n",
       "      <td>0.0</td>\n",
       "      <td>0.0</td>\n",
       "      <td>0.0</td>\n",
       "      <td>0.0</td>\n",
       "    </tr>\n",
       "    <tr>\n",
       "      <th>1</th>\n",
       "      <td>-0.5000</td>\n",
       "      <td>0.0</td>\n",
       "      <td>1.0</td>\n",
       "      <td>-0.2</td>\n",
       "      <td>-1.0</td>\n",
       "      <td>-1.0</td>\n",
       "      <td>-1.0</td>\n",
       "      <td>0.0</td>\n",
       "      <td>-0.142857</td>\n",
       "      <td>0.0</td>\n",
       "      <td>...</td>\n",
       "      <td>0.0</td>\n",
       "      <td>0.0</td>\n",
       "      <td>0.0</td>\n",
       "      <td>0.0</td>\n",
       "      <td>0.0</td>\n",
       "      <td>0.0</td>\n",
       "      <td>0.0</td>\n",
       "      <td>0.0</td>\n",
       "      <td>0.0</td>\n",
       "      <td>0.0</td>\n",
       "    </tr>\n",
       "    <tr>\n",
       "      <th>2</th>\n",
       "      <td>-0.6875</td>\n",
       "      <td>0.0</td>\n",
       "      <td>0.0</td>\n",
       "      <td>-0.2</td>\n",
       "      <td>-1.0</td>\n",
       "      <td>1.0</td>\n",
       "      <td>0.0</td>\n",
       "      <td>0.0</td>\n",
       "      <td>0.142857</td>\n",
       "      <td>0.0</td>\n",
       "      <td>...</td>\n",
       "      <td>0.0</td>\n",
       "      <td>0.0</td>\n",
       "      <td>0.0</td>\n",
       "      <td>0.0</td>\n",
       "      <td>0.0</td>\n",
       "      <td>0.0</td>\n",
       "      <td>0.0</td>\n",
       "      <td>0.0</td>\n",
       "      <td>0.0</td>\n",
       "      <td>0.0</td>\n",
       "    </tr>\n",
       "    <tr>\n",
       "      <th>3</th>\n",
       "      <td>0.3125</td>\n",
       "      <td>-1.0</td>\n",
       "      <td>0.0</td>\n",
       "      <td>-0.2</td>\n",
       "      <td>-1.0</td>\n",
       "      <td>1.0</td>\n",
       "      <td>0.0</td>\n",
       "      <td>0.0</td>\n",
       "      <td>0.285714</td>\n",
       "      <td>1.0</td>\n",
       "      <td>...</td>\n",
       "      <td>0.0</td>\n",
       "      <td>0.0</td>\n",
       "      <td>0.0</td>\n",
       "      <td>0.0</td>\n",
       "      <td>0.0</td>\n",
       "      <td>0.0</td>\n",
       "      <td>1.0</td>\n",
       "      <td>0.0</td>\n",
       "      <td>0.0</td>\n",
       "      <td>0.0</td>\n",
       "    </tr>\n",
       "    <tr>\n",
       "      <th>4</th>\n",
       "      <td>-0.1875</td>\n",
       "      <td>0.0</td>\n",
       "      <td>0.0</td>\n",
       "      <td>-0.2</td>\n",
       "      <td>-1.0</td>\n",
       "      <td>1.0</td>\n",
       "      <td>0.5</td>\n",
       "      <td>0.0</td>\n",
       "      <td>0.857143</td>\n",
       "      <td>0.0</td>\n",
       "      <td>...</td>\n",
       "      <td>0.0</td>\n",
       "      <td>0.0</td>\n",
       "      <td>0.0</td>\n",
       "      <td>0.0</td>\n",
       "      <td>0.0</td>\n",
       "      <td>0.0</td>\n",
       "      <td>0.0</td>\n",
       "      <td>0.0</td>\n",
       "      <td>0.0</td>\n",
       "      <td>0.0</td>\n",
       "    </tr>\n",
       "  </tbody>\n",
       "</table>\n",
       "<p>5 rows × 121 columns</p>\n",
       "</div>"
      ],
      "text/plain": [
       "      AGE  SEX  INF_ANAM  STENOK_AN  FK_STENOK  IBS_POST   GB  SIM_GIPERT  \\\n",
       "0  0.8750  0.0       2.0        0.0       -0.5       1.0  0.5         0.0   \n",
       "1 -0.5000  0.0       1.0       -0.2       -1.0      -1.0 -1.0         0.0   \n",
       "2 -0.6875  0.0       0.0       -0.2       -1.0       1.0  0.0         0.0   \n",
       "3  0.3125 -1.0       0.0       -0.2       -1.0       1.0  0.0         0.0   \n",
       "4 -0.1875  0.0       0.0       -0.2       -1.0       1.0  0.5         0.0   \n",
       "\n",
       "    DLIT_AG  ZSN_A  ...  JELUD_TAH  FIBR_JELUD  A_V_BLOK  OTEK_LANC  RAZRIV  \\\n",
       "0  0.857143    0.0  ...        0.0         0.0       0.0        0.0     0.0   \n",
       "1 -0.142857    0.0  ...        0.0         0.0       0.0        0.0     0.0   \n",
       "2  0.142857    0.0  ...        0.0         0.0       0.0        0.0     0.0   \n",
       "3  0.285714    1.0  ...        0.0         0.0       0.0        0.0     0.0   \n",
       "4  0.857143    0.0  ...        0.0         0.0       0.0        0.0     0.0   \n",
       "\n",
       "   DRESSLER  ZSN  REC_IM  P_IM_STEN  LET_IS  \n",
       "0       0.0  0.0     0.0        0.0     0.0  \n",
       "1       0.0  0.0     0.0        0.0     0.0  \n",
       "2       0.0  0.0     0.0        0.0     0.0  \n",
       "3       0.0  1.0     0.0        0.0     0.0  \n",
       "4       0.0  0.0     0.0        0.0     0.0  \n",
       "\n",
       "[5 rows x 121 columns]"
      ]
     },
     "execution_count": 18,
     "metadata": {},
     "output_type": "execute_result"
    }
   ],
   "source": [
    "infarction_df = pd.read_csv(DATASET_PATH)\n",
    "infarction_df.head(5)"
   ]
  },
  {
   "cell_type": "code",
   "execution_count": 19,
   "id": "5375737e",
   "metadata": {},
   "outputs": [],
   "source": [
    "numeric_columns = [\n",
    "    \"AGE\",\n",
    "    \"S_AD_KBRIG\",\n",
    "    \"D_AD_KBRIG\",\n",
    "    \"S_AD_ORIT\",\n",
    "    \"D_AD_ORIT\",\n",
    "    \"K_BLOOD\",\n",
    "    \"NA_BLOOD\",\n",
    "    \"ALT_BLOOD\",\n",
    "    \"AST_BLOOD\",\n",
    "    \"L_BLOOD\",\n",
    "    \"ROE\"\n",
    "]\n",
    "\n",
    "target_columns = [\n",
    "    \"FIBR_PREDS\",\n",
    "    \"PREDS_TAH\",\n",
    "    \"JELUD_TAH\",\n",
    "    \"FIBR_JELUD\",\n",
    "    \"A_V_BLOK\",\n",
    "    \"OTEK_LANC\",\n",
    "    \"RAZRIV\",\n",
    "    \"DRESSLER\",\n",
    "    \"ZSN\",\n",
    "    \"REC_IM\",\n",
    "    \"P_IM_STEN\",\n",
    "    \"LET_IS\"\n",
    "]\n",
    "\n",
    "categorical_columns = []\n",
    "for col in infarction_df.columns:\n",
    "    if col not in numeric_columns and col not in target_columns:\n",
    "        categorical_columns.append(col)"
   ]
  },
  {
   "cell_type": "markdown",
   "id": "cddbde1f",
   "metadata": {},
   "source": [
    "We preprocessed our data during the Checkpoint 3, so the only thing that remains is to test the various ML-models for predicting the targets."
   ]
  },
  {
   "cell_type": "markdown",
   "id": "7a355216",
   "metadata": {},
   "source": [
    "As authors of the Dataset pointed out, it's possible to tackle multiple tasks regarding the dataset. There are __four__ possible time moments for __complication prediction__: on base of the information known at:\n",
    "- __the time of admission to hospital__: all input columns (2-112) except 93, 94, 95, 100, 101, 102, 103, 104, 105 can be used for prediction;\n",
    "- __the end of the first day__ (24 hours after admission to the hospital): all input columns (2-112) except 94, 95, 101, 102, 104, 105 can be used for prediction;\n",
    "- __the end of the second day__ (48 hours after admission to the hospital) all input columns (2-112) except 95, 102, 105 can be used for prediction;\n",
    "- __the end of the third day__ (72 hours after admission to the hospital) all input columns (2-112) can be used for prediction."
   ]
  },
  {
   "cell_type": "markdown",
   "id": "481e18aa",
   "metadata": {},
   "source": [
    "In this notebook we'll try to solve the task of predicting targets on __the time of admission to hospital__. \n",
    "\n",
    "Thus, we should get rid of columns numbered 93, 94, 95, 100, 101, 102, 103, 104, 105."
   ]
  },
  {
   "cell_type": "markdown",
   "id": "2158f1f2",
   "metadata": {},
   "source": [
    "More info about the features can be found in _Checkpoint 3 EDA_ notebook, as well as in _Checkpoint 2_ Markdown file."
   ]
  },
  {
   "cell_type": "code",
   "execution_count": 20,
   "id": "d63d0956",
   "metadata": {},
   "outputs": [],
   "source": [
    "columns_to_drop = [\n",
    "    \"R_AB_1_n\",\n",
    "    \"R_AB_2_n\",\n",
    "    \"R_AB_3_n\",\n",
    "    \"NA_R_1_n\",\n",
    "    \"NA_R_2_n\",\n",
    "    \"NA_R_3_n\",\n",
    "    \"NOT_NA_1_n\",\n",
    "    \"NOT_NA_2_n\",\n",
    "    \"NOT_NA_3_n\"\n",
    "]\n",
    "\n",
    "infarction_df.drop(columns=columns_to_drop, inplace=True)\n",
    "for col_to_drop in columns_to_drop:\n",
    "    if col_to_drop in categorical_columns:\n",
    "        categorical_columns.remove(col_to_drop)"
   ]
  },
  {
   "cell_type": "markdown",
   "id": "1d911dd3",
   "metadata": {},
   "source": [
    "It's important to note that the task at hand is __multilabel__ classification."
   ]
  },
  {
   "cell_type": "code",
   "execution_count": 21,
   "id": "0e7e5d15",
   "metadata": {},
   "outputs": [
    {
     "data": {
      "text/html": [
       "<div>\n",
       "<style scoped>\n",
       "    .dataframe tbody tr th:only-of-type {\n",
       "        vertical-align: middle;\n",
       "    }\n",
       "\n",
       "    .dataframe tbody tr th {\n",
       "        vertical-align: top;\n",
       "    }\n",
       "\n",
       "    .dataframe thead th {\n",
       "        text-align: right;\n",
       "    }\n",
       "</style>\n",
       "<table border=\"1\" class=\"dataframe\">\n",
       "  <thead>\n",
       "    <tr style=\"text-align: right;\">\n",
       "      <th></th>\n",
       "      <th>FIBR_PREDS</th>\n",
       "    </tr>\n",
       "  </thead>\n",
       "  <tbody>\n",
       "    <tr>\n",
       "      <th>0.0</th>\n",
       "      <td>1530</td>\n",
       "    </tr>\n",
       "    <tr>\n",
       "      <th>1.0</th>\n",
       "      <td>170</td>\n",
       "    </tr>\n",
       "  </tbody>\n",
       "</table>\n",
       "</div>"
      ],
      "text/plain": [
       "     FIBR_PREDS\n",
       "0.0        1530\n",
       "1.0         170"
      ]
     },
     "metadata": {},
     "output_type": "display_data"
    },
    {
     "data": {
      "text/html": [
       "<div>\n",
       "<style scoped>\n",
       "    .dataframe tbody tr th:only-of-type {\n",
       "        vertical-align: middle;\n",
       "    }\n",
       "\n",
       "    .dataframe tbody tr th {\n",
       "        vertical-align: top;\n",
       "    }\n",
       "\n",
       "    .dataframe thead th {\n",
       "        text-align: right;\n",
       "    }\n",
       "</style>\n",
       "<table border=\"1\" class=\"dataframe\">\n",
       "  <thead>\n",
       "    <tr style=\"text-align: right;\">\n",
       "      <th></th>\n",
       "      <th>PREDS_TAH</th>\n",
       "    </tr>\n",
       "  </thead>\n",
       "  <tbody>\n",
       "    <tr>\n",
       "      <th>0.0</th>\n",
       "      <td>1680</td>\n",
       "    </tr>\n",
       "    <tr>\n",
       "      <th>1.0</th>\n",
       "      <td>20</td>\n",
       "    </tr>\n",
       "  </tbody>\n",
       "</table>\n",
       "</div>"
      ],
      "text/plain": [
       "     PREDS_TAH\n",
       "0.0       1680\n",
       "1.0         20"
      ]
     },
     "metadata": {},
     "output_type": "display_data"
    },
    {
     "data": {
      "text/html": [
       "<div>\n",
       "<style scoped>\n",
       "    .dataframe tbody tr th:only-of-type {\n",
       "        vertical-align: middle;\n",
       "    }\n",
       "\n",
       "    .dataframe tbody tr th {\n",
       "        vertical-align: top;\n",
       "    }\n",
       "\n",
       "    .dataframe thead th {\n",
       "        text-align: right;\n",
       "    }\n",
       "</style>\n",
       "<table border=\"1\" class=\"dataframe\">\n",
       "  <thead>\n",
       "    <tr style=\"text-align: right;\">\n",
       "      <th></th>\n",
       "      <th>JELUD_TAH</th>\n",
       "    </tr>\n",
       "  </thead>\n",
       "  <tbody>\n",
       "    <tr>\n",
       "      <th>0.0</th>\n",
       "      <td>1658</td>\n",
       "    </tr>\n",
       "    <tr>\n",
       "      <th>1.0</th>\n",
       "      <td>42</td>\n",
       "    </tr>\n",
       "  </tbody>\n",
       "</table>\n",
       "</div>"
      ],
      "text/plain": [
       "     JELUD_TAH\n",
       "0.0       1658\n",
       "1.0         42"
      ]
     },
     "metadata": {},
     "output_type": "display_data"
    },
    {
     "data": {
      "text/html": [
       "<div>\n",
       "<style scoped>\n",
       "    .dataframe tbody tr th:only-of-type {\n",
       "        vertical-align: middle;\n",
       "    }\n",
       "\n",
       "    .dataframe tbody tr th {\n",
       "        vertical-align: top;\n",
       "    }\n",
       "\n",
       "    .dataframe thead th {\n",
       "        text-align: right;\n",
       "    }\n",
       "</style>\n",
       "<table border=\"1\" class=\"dataframe\">\n",
       "  <thead>\n",
       "    <tr style=\"text-align: right;\">\n",
       "      <th></th>\n",
       "      <th>FIBR_JELUD</th>\n",
       "    </tr>\n",
       "  </thead>\n",
       "  <tbody>\n",
       "    <tr>\n",
       "      <th>0.0</th>\n",
       "      <td>1629</td>\n",
       "    </tr>\n",
       "    <tr>\n",
       "      <th>1.0</th>\n",
       "      <td>71</td>\n",
       "    </tr>\n",
       "  </tbody>\n",
       "</table>\n",
       "</div>"
      ],
      "text/plain": [
       "     FIBR_JELUD\n",
       "0.0        1629\n",
       "1.0          71"
      ]
     },
     "metadata": {},
     "output_type": "display_data"
    },
    {
     "data": {
      "text/html": [
       "<div>\n",
       "<style scoped>\n",
       "    .dataframe tbody tr th:only-of-type {\n",
       "        vertical-align: middle;\n",
       "    }\n",
       "\n",
       "    .dataframe tbody tr th {\n",
       "        vertical-align: top;\n",
       "    }\n",
       "\n",
       "    .dataframe thead th {\n",
       "        text-align: right;\n",
       "    }\n",
       "</style>\n",
       "<table border=\"1\" class=\"dataframe\">\n",
       "  <thead>\n",
       "    <tr style=\"text-align: right;\">\n",
       "      <th></th>\n",
       "      <th>A_V_BLOK</th>\n",
       "    </tr>\n",
       "  </thead>\n",
       "  <tbody>\n",
       "    <tr>\n",
       "      <th>0.0</th>\n",
       "      <td>1643</td>\n",
       "    </tr>\n",
       "    <tr>\n",
       "      <th>1.0</th>\n",
       "      <td>57</td>\n",
       "    </tr>\n",
       "  </tbody>\n",
       "</table>\n",
       "</div>"
      ],
      "text/plain": [
       "     A_V_BLOK\n",
       "0.0      1643\n",
       "1.0        57"
      ]
     },
     "metadata": {},
     "output_type": "display_data"
    },
    {
     "data": {
      "text/html": [
       "<div>\n",
       "<style scoped>\n",
       "    .dataframe tbody tr th:only-of-type {\n",
       "        vertical-align: middle;\n",
       "    }\n",
       "\n",
       "    .dataframe tbody tr th {\n",
       "        vertical-align: top;\n",
       "    }\n",
       "\n",
       "    .dataframe thead th {\n",
       "        text-align: right;\n",
       "    }\n",
       "</style>\n",
       "<table border=\"1\" class=\"dataframe\">\n",
       "  <thead>\n",
       "    <tr style=\"text-align: right;\">\n",
       "      <th></th>\n",
       "      <th>OTEK_LANC</th>\n",
       "    </tr>\n",
       "  </thead>\n",
       "  <tbody>\n",
       "    <tr>\n",
       "      <th>0.0</th>\n",
       "      <td>1541</td>\n",
       "    </tr>\n",
       "    <tr>\n",
       "      <th>1.0</th>\n",
       "      <td>159</td>\n",
       "    </tr>\n",
       "  </tbody>\n",
       "</table>\n",
       "</div>"
      ],
      "text/plain": [
       "     OTEK_LANC\n",
       "0.0       1541\n",
       "1.0        159"
      ]
     },
     "metadata": {},
     "output_type": "display_data"
    },
    {
     "data": {
      "text/html": [
       "<div>\n",
       "<style scoped>\n",
       "    .dataframe tbody tr th:only-of-type {\n",
       "        vertical-align: middle;\n",
       "    }\n",
       "\n",
       "    .dataframe tbody tr th {\n",
       "        vertical-align: top;\n",
       "    }\n",
       "\n",
       "    .dataframe thead th {\n",
       "        text-align: right;\n",
       "    }\n",
       "</style>\n",
       "<table border=\"1\" class=\"dataframe\">\n",
       "  <thead>\n",
       "    <tr style=\"text-align: right;\">\n",
       "      <th></th>\n",
       "      <th>RAZRIV</th>\n",
       "    </tr>\n",
       "  </thead>\n",
       "  <tbody>\n",
       "    <tr>\n",
       "      <th>0.0</th>\n",
       "      <td>1646</td>\n",
       "    </tr>\n",
       "    <tr>\n",
       "      <th>1.0</th>\n",
       "      <td>54</td>\n",
       "    </tr>\n",
       "  </tbody>\n",
       "</table>\n",
       "</div>"
      ],
      "text/plain": [
       "     RAZRIV\n",
       "0.0    1646\n",
       "1.0      54"
      ]
     },
     "metadata": {},
     "output_type": "display_data"
    },
    {
     "data": {
      "text/html": [
       "<div>\n",
       "<style scoped>\n",
       "    .dataframe tbody tr th:only-of-type {\n",
       "        vertical-align: middle;\n",
       "    }\n",
       "\n",
       "    .dataframe tbody tr th {\n",
       "        vertical-align: top;\n",
       "    }\n",
       "\n",
       "    .dataframe thead th {\n",
       "        text-align: right;\n",
       "    }\n",
       "</style>\n",
       "<table border=\"1\" class=\"dataframe\">\n",
       "  <thead>\n",
       "    <tr style=\"text-align: right;\">\n",
       "      <th></th>\n",
       "      <th>DRESSLER</th>\n",
       "    </tr>\n",
       "  </thead>\n",
       "  <tbody>\n",
       "    <tr>\n",
       "      <th>0.0</th>\n",
       "      <td>1625</td>\n",
       "    </tr>\n",
       "    <tr>\n",
       "      <th>1.0</th>\n",
       "      <td>75</td>\n",
       "    </tr>\n",
       "  </tbody>\n",
       "</table>\n",
       "</div>"
      ],
      "text/plain": [
       "     DRESSLER\n",
       "0.0      1625\n",
       "1.0        75"
      ]
     },
     "metadata": {},
     "output_type": "display_data"
    },
    {
     "data": {
      "text/html": [
       "<div>\n",
       "<style scoped>\n",
       "    .dataframe tbody tr th:only-of-type {\n",
       "        vertical-align: middle;\n",
       "    }\n",
       "\n",
       "    .dataframe tbody tr th {\n",
       "        vertical-align: top;\n",
       "    }\n",
       "\n",
       "    .dataframe thead th {\n",
       "        text-align: right;\n",
       "    }\n",
       "</style>\n",
       "<table border=\"1\" class=\"dataframe\">\n",
       "  <thead>\n",
       "    <tr style=\"text-align: right;\">\n",
       "      <th></th>\n",
       "      <th>ZSN</th>\n",
       "    </tr>\n",
       "  </thead>\n",
       "  <tbody>\n",
       "    <tr>\n",
       "      <th>0.0</th>\n",
       "      <td>1306</td>\n",
       "    </tr>\n",
       "    <tr>\n",
       "      <th>1.0</th>\n",
       "      <td>394</td>\n",
       "    </tr>\n",
       "  </tbody>\n",
       "</table>\n",
       "</div>"
      ],
      "text/plain": [
       "      ZSN\n",
       "0.0  1306\n",
       "1.0   394"
      ]
     },
     "metadata": {},
     "output_type": "display_data"
    },
    {
     "data": {
      "text/html": [
       "<div>\n",
       "<style scoped>\n",
       "    .dataframe tbody tr th:only-of-type {\n",
       "        vertical-align: middle;\n",
       "    }\n",
       "\n",
       "    .dataframe tbody tr th {\n",
       "        vertical-align: top;\n",
       "    }\n",
       "\n",
       "    .dataframe thead th {\n",
       "        text-align: right;\n",
       "    }\n",
       "</style>\n",
       "<table border=\"1\" class=\"dataframe\">\n",
       "  <thead>\n",
       "    <tr style=\"text-align: right;\">\n",
       "      <th></th>\n",
       "      <th>REC_IM</th>\n",
       "    </tr>\n",
       "  </thead>\n",
       "  <tbody>\n",
       "    <tr>\n",
       "      <th>0.0</th>\n",
       "      <td>1541</td>\n",
       "    </tr>\n",
       "    <tr>\n",
       "      <th>1.0</th>\n",
       "      <td>159</td>\n",
       "    </tr>\n",
       "  </tbody>\n",
       "</table>\n",
       "</div>"
      ],
      "text/plain": [
       "     REC_IM\n",
       "0.0    1541\n",
       "1.0     159"
      ]
     },
     "metadata": {},
     "output_type": "display_data"
    },
    {
     "data": {
      "text/html": [
       "<div>\n",
       "<style scoped>\n",
       "    .dataframe tbody tr th:only-of-type {\n",
       "        vertical-align: middle;\n",
       "    }\n",
       "\n",
       "    .dataframe tbody tr th {\n",
       "        vertical-align: top;\n",
       "    }\n",
       "\n",
       "    .dataframe thead th {\n",
       "        text-align: right;\n",
       "    }\n",
       "</style>\n",
       "<table border=\"1\" class=\"dataframe\">\n",
       "  <thead>\n",
       "    <tr style=\"text-align: right;\">\n",
       "      <th></th>\n",
       "      <th>P_IM_STEN</th>\n",
       "    </tr>\n",
       "  </thead>\n",
       "  <tbody>\n",
       "    <tr>\n",
       "      <th>0.0</th>\n",
       "      <td>1552</td>\n",
       "    </tr>\n",
       "    <tr>\n",
       "      <th>1.0</th>\n",
       "      <td>148</td>\n",
       "    </tr>\n",
       "  </tbody>\n",
       "</table>\n",
       "</div>"
      ],
      "text/plain": [
       "     P_IM_STEN\n",
       "0.0       1552\n",
       "1.0        148"
      ]
     },
     "metadata": {},
     "output_type": "display_data"
    },
    {
     "data": {
      "text/html": [
       "<div>\n",
       "<style scoped>\n",
       "    .dataframe tbody tr th:only-of-type {\n",
       "        vertical-align: middle;\n",
       "    }\n",
       "\n",
       "    .dataframe tbody tr th {\n",
       "        vertical-align: top;\n",
       "    }\n",
       "\n",
       "    .dataframe thead th {\n",
       "        text-align: right;\n",
       "    }\n",
       "</style>\n",
       "<table border=\"1\" class=\"dataframe\">\n",
       "  <thead>\n",
       "    <tr style=\"text-align: right;\">\n",
       "      <th></th>\n",
       "      <th>LET_IS</th>\n",
       "    </tr>\n",
       "  </thead>\n",
       "  <tbody>\n",
       "    <tr>\n",
       "      <th>0.0</th>\n",
       "      <td>1429</td>\n",
       "    </tr>\n",
       "    <tr>\n",
       "      <th>1.0</th>\n",
       "      <td>110</td>\n",
       "    </tr>\n",
       "    <tr>\n",
       "      <th>3.0</th>\n",
       "      <td>54</td>\n",
       "    </tr>\n",
       "    <tr>\n",
       "      <th>7.0</th>\n",
       "      <td>27</td>\n",
       "    </tr>\n",
       "    <tr>\n",
       "      <th>6.0</th>\n",
       "      <td>27</td>\n",
       "    </tr>\n",
       "    <tr>\n",
       "      <th>4.0</th>\n",
       "      <td>23</td>\n",
       "    </tr>\n",
       "    <tr>\n",
       "      <th>2.0</th>\n",
       "      <td>18</td>\n",
       "    </tr>\n",
       "    <tr>\n",
       "      <th>5.0</th>\n",
       "      <td>12</td>\n",
       "    </tr>\n",
       "  </tbody>\n",
       "</table>\n",
       "</div>"
      ],
      "text/plain": [
       "     LET_IS\n",
       "0.0    1429\n",
       "1.0     110\n",
       "3.0      54\n",
       "7.0      27\n",
       "6.0      27\n",
       "4.0      23\n",
       "2.0      18\n",
       "5.0      12"
      ]
     },
     "metadata": {},
     "output_type": "display_data"
    }
   ],
   "source": [
    "for target in target_columns:\n",
    "    display(infarction_df[target].value_counts().to_frame())"
   ]
  },
  {
   "cell_type": "markdown",
   "id": "50249ab5",
   "metadata": {},
   "source": [
    "Most of the targets are binary, only the last one `LET_IS` needs special treatment."
   ]
  },
  {
   "cell_type": "markdown",
   "id": "7d0ea6ea",
   "metadata": {},
   "source": [
    "##### Metric"
   ]
  },
  {
   "cell_type": "markdown",
   "id": "5c011935",
   "metadata": {},
   "source": [
    "The `F1-score` seems like a good idea for such task given that we have a multiclass target `LET_IS` (we would use averaging methods to show how they react to given predictions from model), as well as due to the fact that the targets are highly imbalanced and we need to account for this."
   ]
  },
  {
   "cell_type": "markdown",
   "id": "491792c1",
   "metadata": {},
   "source": [
    "##### Linear Models"
   ]
  },
  {
   "cell_type": "markdown",
   "id": "2706534b",
   "metadata": {},
   "source": [
    "We'll use __Logistic Regression__ as one of the most reliable algorithms from Linear models familty."
   ]
  },
  {
   "cell_type": "markdown",
   "id": "841be8c0",
   "metadata": {},
   "source": [
    "As for how we would structure our learning phase - it's quite simple, actually. We would train a banch of Logistic Regressions on the dataset each for one target and append their results in the end."
   ]
  },
  {
   "cell_type": "markdown",
   "id": "ac73d9da",
   "metadata": {},
   "source": [
    "Let's try and just train Logistic Regressions with standard parameters."
   ]
  },
  {
   "cell_type": "code",
   "execution_count": 59,
   "id": "43d5138a",
   "metadata": {},
   "outputs": [
    {
     "name": "stdout",
     "output_type": "stream",
     "text": [
      "Target = FIBR_PREDS\n",
      "f1-score:  0.158, Recall:  0.094, Precision:  0.5\n",
      "Target = PREDS_TAH\n",
      "f1-score:  0.0, Recall:  0.0, Precision:  0.0\n",
      "Target = JELUD_TAH\n",
      "f1-score:  0.047, Recall:  0.024, Precision:  1.0\n",
      "Target = FIBR_JELUD\n",
      "f1-score:  0.2, Recall:  0.113, Precision:  0.889\n",
      "Target = A_V_BLOK\n",
      "f1-score:  0.152, Recall:  0.088, Precision:  0.556\n",
      "Target = OTEK_LANC\n",
      "f1-score:  0.255, Recall:  0.157, Precision:  0.676\n"
     ]
    },
    {
     "name": "stderr",
     "output_type": "stream",
     "text": [
      "/home/proven_warrior/hse/ultrasound_project/ultrasoundvenv/lib/python3.11/site-packages/sklearn/metrics/_classification.py:1344: UndefinedMetricWarning: Precision is ill-defined and being set to 0.0 due to no predicted samples. Use `zero_division` parameter to control this behavior.\n",
      "  _warn_prf(average, modifier, msg_start, len(result))\n"
     ]
    },
    {
     "name": "stdout",
     "output_type": "stream",
     "text": [
      "Target = RAZRIV\n",
      "f1-score:  0.167, Recall:  0.093, Precision:  0.833\n",
      "Target = DRESSLER\n",
      "f1-score:  0.052, Recall:  0.027, Precision:  1.0\n",
      "Target = ZSN\n",
      "f1-score:  0.256, Recall:  0.16, Precision:  0.636\n",
      "Target = REC_IM\n",
      "f1-score:  0.025, Recall:  0.013, Precision:  0.5\n",
      "Target = P_IM_STEN\n",
      "f1-score:  0.013, Recall:  0.007, Precision:  1.0\n",
      "Target = LET_IS\n",
      "f1-score:  0.889, Recall:  0.889, Precision:  0.889\n"
     ]
    }
   ],
   "source": [
    "for target in target_columns:\n",
    "    log = LogisticRegression(max_iter=MAX_ITER, random_state=SEED)\n",
    "    log.fit(\n",
    "        infarction_df[numeric_columns + categorical_columns], \n",
    "        infarction_df[target]\n",
    "    )\n",
    "    if target != \"LET_IS\":\n",
    "        average = \"binary\"\n",
    "    else:\n",
    "        average = \"micro\"\n",
    "        \n",
    "    preds = log.predict(infarction_df[numeric_columns + categorical_columns])\n",
    "    \n",
    "    print(f\"Target = {target}\")\n",
    "    print(\n",
    "        \"f1-score: \",\n",
    "        round(f1_score(infarction_df[target], preds, average=average), 3),\n",
    "        end=\", \"\n",
    "    )\n",
    "    print(\n",
    "        \"Recall: \",\n",
    "        round(recall_score(infarction_df[target], preds, average=average), 3),\n",
    "        end=\", \"\n",
    "    )\n",
    "    print(\n",
    "        \"Precision: \",\n",
    "        round(precision_score(infarction_df[target], preds, average=average), 3),\n",
    "    )"
   ]
  },
  {
   "cell_type": "markdown",
   "id": "033d13e5",
   "metadata": {},
   "source": [
    "We encounter one of the most typical problems of working with Medical Data: our __precision is quite high__ in most of the cases, yet __recall is exceptionally low__. That's mainly due to the fact that we have little samples with positive class for each of targets and model can't really distinguish them from the total number of the samples."
   ]
  },
  {
   "cell_type": "markdown",
   "id": "43d18fc2",
   "metadata": {},
   "source": [
    "Let's try and predict probabilites instead for binary targets. Moreover, we would classify the positive class if probability for this class is $>=0.30$."
   ]
  },
  {
   "cell_type": "code",
   "execution_count": 61,
   "id": "3388d178",
   "metadata": {},
   "outputs": [
    {
     "name": "stdout",
     "output_type": "stream",
     "text": [
      "Target = FIBR_PREDS\n",
      "f1-score:  0.358, Recall:  0.282, Precision:  0.49\n",
      "Target = PREDS_TAH\n",
      "f1-score:  0.095, Recall:  0.05, Precision:  1.0\n",
      "Target = JELUD_TAH\n",
      "f1-score:  0.286, Recall:  0.19, Precision:  0.571\n",
      "Target = FIBR_JELUD\n",
      "f1-score:  0.272, Recall:  0.197, Precision:  0.438\n",
      "Target = A_V_BLOK\n",
      "f1-score:  0.306, Recall:  0.228, Precision:  0.464\n",
      "Target = OTEK_LANC\n",
      "f1-score:  0.41, Recall:  0.358, Precision:  0.479\n",
      "Target = RAZRIV\n",
      "f1-score:  0.354, Recall:  0.259, Precision:  0.56\n",
      "Target = DRESSLER\n",
      "f1-score:  0.096, Recall:  0.053, Precision:  0.5\n",
      "Target = ZSN\n",
      "f1-score:  0.455, Recall:  0.472, Precision:  0.44\n",
      "Target = REC_IM\n",
      "f1-score:  0.272, Recall:  0.182, Precision:  0.537\n",
      "Target = P_IM_STEN\n",
      "f1-score:  0.281, Recall:  0.189, Precision:  0.549\n",
      "Target = LET_IS\n",
      "f1-score:  0.889, Recall:  0.889, Precision:  0.889\n"
     ]
    }
   ],
   "source": [
    "for target in target_columns:\n",
    "    log = LogisticRegression(max_iter=MAX_ITER, random_state=SEED)\n",
    "    log.fit(\n",
    "        infarction_df[numeric_columns + categorical_columns], \n",
    "        infarction_df[target]\n",
    "    )\n",
    "    if target != \"LET_IS\":\n",
    "        average = \"binary\"\n",
    "        preds = log.predict_proba(infarction_df[numeric_columns + categorical_columns])\n",
    "        preds = np.where(preds[:, 1] > 0.30, 1, 0)\n",
    "    else:\n",
    "        average = \"micro\"\n",
    "        preds = log.predict(infarction_df[numeric_columns + categorical_columns])\n",
    "\n",
    "    print(f\"Target = {target}\")\n",
    "    print(\n",
    "        \"f1-score: \",\n",
    "        round(f1_score(infarction_df[target], preds, average=average), 3),\n",
    "        end=\", \"\n",
    "    )\n",
    "    print(\n",
    "        \"Recall: \",\n",
    "        round(recall_score(infarction_df[target], preds, average=average), 3),\n",
    "        end=\", \"\n",
    "    )\n",
    "    print(\n",
    "        \"Precision: \",\n",
    "        round(precision_score(infarction_df[target], preds, average=average), 3),\n",
    "    )"
   ]
  },
  {
   "cell_type": "markdown",
   "id": "49a92cbc",
   "metadata": {},
   "source": [
    "Well, precision lowered on most of the targets, and quite high on some of them. At the same time, we see a positive change in recall - our baseline model can now classify more positive samples correctly."
   ]
  }
 ],
 "metadata": {
  "kernelspec": {
   "display_name": "Python 3 (ipykernel)",
   "language": "python",
   "name": "python3"
  },
  "language_info": {
   "codemirror_mode": {
    "name": "ipython",
    "version": 3
   },
   "file_extension": ".py",
   "mimetype": "text/x-python",
   "name": "python",
   "nbconvert_exporter": "python",
   "pygments_lexer": "ipython3",
   "version": "3.11.1"
  }
 },
 "nbformat": 4,
 "nbformat_minor": 5
}
